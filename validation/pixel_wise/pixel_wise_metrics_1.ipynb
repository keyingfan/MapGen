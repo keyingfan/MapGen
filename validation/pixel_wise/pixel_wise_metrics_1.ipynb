{
  "nbformat": 4,
  "nbformat_minor": 0,
  "metadata": {
    "colab": {
      "provenance": []
    },
    "kernelspec": {
      "name": "python3",
      "display_name": "Python 3"
    },
    "language_info": {
      "name": "python"
    }
  },
  "cells": [
    {
      "cell_type": "code",
      "execution_count": null,
      "metadata": {
        "colab": {
          "base_uri": "https://localhost:8080/"
        },
        "id": "GTK-GafvRmj-",
        "outputId": "104ffb52-d834-470f-c16d-3d8bfc634f57"
      },
      "outputs": [
        {
          "output_type": "stream",
          "name": "stdout",
          "text": [
            "Mounted at /content/drive\n"
          ]
        }
      ],
      "source": [
        "from google.colab import drive\n",
        "drive.mount('/content/drive')"
      ]
    },
    {
      "cell_type": "code",
      "source": [
        "from PIL import Image\n",
        "import numpy as np\n",
        "from sklearn.metrics import confusion_matrix\n",
        "\n",
        "def img_reader(file):\n",
        "    I = Image.open(file).convert('L')\n",
        "    img = np.array(I)\n",
        "    img = img / np.max(img)\n",
        "    return img\n",
        "\n",
        "def get_eval_matrix(predict, true, verbose=False):\n",
        "    predict = predict.ravel()\n",
        "    true = true.ravel()\n",
        "    TN, FP, FN, TP = confusion_matrix(true, predict).ravel()  # 注意这里先true再predict\n",
        "\n",
        "    measures = [\n",
        "        1-(TP + TN) / (TP + TN + FP + FN),   # error rate\n",
        "        TP / (TP + FP + FN),                 # IoU\n",
        "        TP / (TP + FN),                      # Recall\n",
        "        TP / (TP + FP)                       # Precision\n",
        "    ]\n",
        "    if verbose:\n",
        "        print(TN, FP, FN, TP)\n",
        "        print('error rate / iou / Recall / Precision')\n",
        "        for m in measures:\n",
        "            print(format(m, '.4f'))\n",
        "    return measures\n",
        "\n",
        "# ====== 使用示例 ======\n",
        "# 读入GT和预测图\n",
        "gt = img_reader(\"/content/drive/MyDrive/inferencee/png/geb15_clip_4270_target.png\")\n",
        "pre = img_reader(\"/content/drive/MyDrive/inferencee/png/geb15_1000_sdxl_binary.png\")\n",
        "# 二值化（阈值可调）\n",
        "gt = (gt > 0.5).astype(int)\n",
        "pre = (pre > 0.5).astype(int)\n",
        "\n",
        "# 评估\n",
        "get_eval_matrix(pre, gt, verbose=True)\n"
      ],
      "metadata": {
        "colab": {
          "base_uri": "https://localhost:8080/"
        },
        "id": "5oouWw6WRvel",
        "outputId": "41048eb9-3dbe-4722-9fe0-2703eccd64c7"
      },
      "execution_count": null,
      "outputs": [
        {
          "output_type": "stream",
          "name": "stdout",
          "text": [
            "769283 6550 10700 213467\n",
            "error rate / iou / Recall / Precision\n",
            "0.0172\n",
            "0.9252\n",
            "0.9523\n",
            "0.9702\n"
          ]
        },
        {
          "output_type": "execute_result",
          "data": {
            "text/plain": [
              "[np.float64(0.017249999999999988),\n",
              " np.float64(0.9252330777532648),\n",
              " np.float64(0.9522677289699197),\n",
              " np.float64(0.970229573169346)]"
            ]
          },
          "metadata": {},
          "execution_count": 3
        }
      ]
    }
  ]
}